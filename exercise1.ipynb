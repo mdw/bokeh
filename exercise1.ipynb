{
 "cells": [
  {
   "cell_type": "code",
   "execution_count": 9,
   "metadata": {},
   "outputs": [],
   "source": [
    "from bokeh.io import output_file, show\n",
    "from bokeh.layouts import gridplot\n",
    "from bokeh.plotting import figure\n",
    "\n",
    "# sample data has 3 flower types, petal_width and petal_length data\n",
    "from bokeh.sampledata.iris import flowers\n",
    "\n",
    "output_file(\"layout.html\")\n",
    "\n",
    "# add a column named 'color' which colors the data points based on species\n",
    "colormap = {'setosa':'blue', 'versicolor':'red', 'virginica':'green'}\n",
    "flowers[\"color\"] = [colormap[x] for x in flowers['species']]\n",
    "\n",
    "# create 3 new plots\n",
    "f1 = figure(width=300, plot_height=300, title=\"Seposa\")\n",
    "f1.circle(x = flowers[\"petal_length\"][flowers['species']=='setosa'], \n",
    "         y = flowers[\"petal_width\"][flowers['species']=='setosa'], fill_alpha=0.2, \n",
    "         size = 3*flowers[\"sepal_width\"][flowers['species']=='setosa'], \n",
    "         color = flowers[\"color\"][flowers['species']=='setosa'])\n",
    "\n",
    "f2 = figure(width=300, height=300, title=\"Versicolor\")\n",
    "f2.triangle(x = flowers[\"petal_length\"][flowers['species']=='versicolor'], \n",
    "         y = flowers[\"petal_width\"][flowers['species']=='versicolor'], fill_alpha=0.2, \n",
    "         size = 3*flowers[\"sepal_width\"][flowers['species']=='versicolor'], \n",
    "         color = flowers[\"color\"][flowers['species']=='versicolor'])\n",
    "\n",
    "f3 = figure(width=300, height=300, title=\"Virginica\")\n",
    "f3.square(x = flowers[\"petal_length\"][flowers['species']=='virginica'], \n",
    "         y = flowers[\"petal_width\"][flowers['species']=='virginica'], fill_alpha=0.2,\n",
    "         size = 3*flowers[\"sepal_width\"][flowers['species']=='virginica'], \n",
    "         color = flowers[\"color\"][flowers['species']=='virginica'])\n",
    "\n",
    "# put the plots into a grid layout of 2 gridrows\n",
    "f = gridplot([[f1, f2], [None, f3]])\n",
    "\n",
    "show(f)"
   ]
  },
  {
   "cell_type": "code",
   "execution_count": null,
   "metadata": {},
   "outputs": [],
   "source": []
  }
 ],
 "metadata": {
  "kernelspec": {
   "display_name": "Python 3",
   "language": "python",
   "name": "python3"
  },
  "language_info": {
   "codemirror_mode": {
    "name": "ipython",
    "version": 3
   },
   "file_extension": ".py",
   "mimetype": "text/x-python",
   "name": "python",
   "nbconvert_exporter": "python",
   "pygments_lexer": "ipython3",
   "version": "3.7.6"
  }
 },
 "nbformat": 4,
 "nbformat_minor": 4
}
