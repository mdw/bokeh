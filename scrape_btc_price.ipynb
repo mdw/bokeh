{
 "cells": [
  {
   "cell_type": "code",
   "execution_count": 57,
   "metadata": {},
   "outputs": [
    {
     "data": {
      "text/plain": [
       "9415.58"
      ]
     },
     "execution_count": 57,
     "metadata": {},
     "output_type": "execute_result"
    }
   ],
   "source": [
    "# figure out our web scraping code to use in btc-price.py\n",
    "import requests\n",
    "from bs4 import BeautifulSoup\n",
    "\n",
    "r=requests.get(\"https://coinmarketcap.com\", headers={'User-Agent':'Mozilla/5.0'})\n",
    "\n",
    "soup = BeautifulSoup(r.content, \"html.parser\")\n",
    "td = soup.find_all('td', class_='cmc-table__cell--sort-by__price')\n",
    "\n",
    "# a = '<a href=\"\" class_='cmc-link'>$9,999</a>'\n",
    "a = td[0].find('a', class_='cmc-link')\n",
    "\n",
    "# strip leading $ and remove comma\n",
    "price = float(a.text[1:].replace(',', ''))\n",
    "price"
   ]
  },
  {
   "cell_type": "code",
   "execution_count": null,
   "metadata": {},
   "outputs": [],
   "source": []
  }
 ],
 "metadata": {
  "kernelspec": {
   "display_name": "Python 3",
   "language": "python",
   "name": "python3"
  },
  "language_info": {
   "codemirror_mode": {
    "name": "ipython",
    "version": 3
   },
   "file_extension": ".py",
   "mimetype": "text/x-python",
   "name": "python",
   "nbconvert_exporter": "python",
   "pygments_lexer": "ipython3",
   "version": "3.7.6"
  }
 },
 "nbformat": 4,
 "nbformat_minor": 4
}
