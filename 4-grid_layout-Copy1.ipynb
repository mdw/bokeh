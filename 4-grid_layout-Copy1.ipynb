{
 "cells": [
  {
   "cell_type": "code",
   "execution_count": 7,
   "metadata": {},
   "outputs": [],
   "source": [
    "from bokeh.io import output_file, show\n",
    "from bokeh.layouts import gridplot\n",
    "from bokeh.plotting import figure\n",
    "\n",
    "output_file(\"layout.html\")\n",
    "\n",
    "x1,y1 = list(range(0,10)), list(range(10,20))\n",
    "x2,y2 = list(range(20,30)), list(range(30,40))\n",
    "x3,y3 = list(range(40,50)), list(range(50,60))\n",
    "\n",
    "# create 3 new plots\n",
    "f1 = figure(width=300, plot_height=300, title=\"circles\")\n",
    "f1.circle(x1, y1, size=12, color=\"navy\", alpha=0.5)\n",
    "\n",
    "f2 = figure(width=300, height=300, title=\"triangles\")\n",
    "f2.triangle(x2, y2, size=12, color=\"firebrick\", alpha=0.5)\n",
    "\n",
    "f3 = figure(width=300, height=300, title=\"squares\")\n",
    "f3.square(x3, y3, size=12, color=\"olive\", alpha=0.5)\n",
    "\n",
    "# put the plots into a grid layout of 2 gridrows\n",
    "f = gridplot([[f1, f2], [None, f3]])\n",
    "\n",
    "show(f)"
   ]
  },
  {
   "cell_type": "code",
   "execution_count": null,
   "metadata": {},
   "outputs": [],
   "source": []
  }
 ],
 "metadata": {
  "kernelspec": {
   "display_name": "Python 3",
   "language": "python",
   "name": "python3"
  },
  "language_info": {
   "codemirror_mode": {
    "name": "ipython",
    "version": 3
   },
   "file_extension": ".py",
   "mimetype": "text/x-python",
   "name": "python",
   "nbconvert_exporter": "python",
   "pygments_lexer": "ipython3",
   "version": "3.7.6"
  }
 },
 "nbformat": 4,
 "nbformat_minor": 4
}
