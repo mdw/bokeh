{
 "cells": [
  {
   "cell_type": "code",
   "execution_count": 23,
   "metadata": {},
   "outputs": [],
   "source": [
    "# categorical axes\n",
    "\n",
    "from bokeh.plotting import figure\n",
    "from bokeh.io import output_file, show\n",
    "from bokeh.models.annotations import Label, LabelSet\n",
    "from bokeh.models import ColumnDataSource\n",
    "\n",
    "output_file(\"students.html\", title=\"students and grades\")\n",
    "\n",
    "# create ColumnDataSource\n",
    "source = ColumnDataSource(dict(average_grades=[\"B+\",\"A\",\"D\"], \n",
    "                               exam_grades=[\"A\",\"B-\",\"C\"],\n",
    "                               student_names=[\"Alice\",\"Bob\",\"Charlie\"]))\n",
    "\n",
    "# create the figure\n",
    "f = figure(x_range=['F','D-','D','D+','C-','C','C+','B-','B','B+','A-','A','A+'], \n",
    "           y_range=['F','D-','D','D+','C-','C','C+','B-','B','B+','A-','A','A+'])\n",
    "\n",
    "description = Label(x=6, y=1, render_mode=\"css\", background_fill_color=\"firebrick\",\n",
    "                    background_fill_alpha=0.3, border_line_color=\"black\",\n",
    "                    text=\"this graph is showing some of the average student grades\")\n",
    "f.add_layout(description)\n",
    "            \n",
    "# add label for glyphs\n",
    "labels = LabelSet(x=\"average_grades\", y=\"exam_grades\", text=\"student_names\", \n",
    "                  x_offset=5, y_offset=5, source=source)\n",
    "\n",
    "f.circle(x=\"average_grades\", y=\"exam_grades\", source=source, size=8)\n",
    "f.add_layout(labels)\n",
    "\n",
    "show(f)"
   ]
  },
  {
   "cell_type": "code",
   "execution_count": null,
   "metadata": {},
   "outputs": [],
   "source": []
  }
 ],
 "metadata": {
  "kernelspec": {
   "display_name": "Python 3",
   "language": "python",
   "name": "python3"
  },
  "language_info": {
   "codemirror_mode": {
    "name": "ipython",
    "version": 3
   },
   "file_extension": ".py",
   "mimetype": "text/x-python",
   "name": "python",
   "nbconvert_exporter": "python",
   "pygments_lexer": "ipython3",
   "version": "3.7.6"
  }
 },
 "nbformat": 4,
 "nbformat_minor": 4
}
